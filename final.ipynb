{
 "cells": [
  {
   "cell_type": "code",
   "execution_count": 1,
   "metadata": {
    "collapsed": false
   },
   "outputs": [
    {
     "data": {
      "text/plain": [
       "['30,64,1,1', '30,62,3,1', '30,65,0,1', '31,59,2,1', '31,65,4,1']"
      ]
     },
     "execution_count": 1,
     "metadata": {},
     "output_type": "execute_result"
    }
   ],
   "source": [
    "from pyspark.sql import SQLContext\n",
    "\n",
    "trainingSet = sc.textFile('file:///home/cloudera/Desktop/final/haberman.data')\n",
    "\n",
    "trainingSet.take(5)\n"
   ]
  },
  {
   "cell_type": "code",
   "execution_count": 2,
   "metadata": {
    "collapsed": false
   },
   "outputs": [],
   "source": [
    "def getData(line):\n",
    "    attrs = line.split(',')\n",
    "    if attrs[3] == '1':\n",
    "        return [float(attrs[0]),float(attrs[2]),\"green\"]\n",
    "    else:\n",
    "        return [float(attrs[0]),float(attrs[2]),\"red\"]\n",
    "\n",
    "data = trainingSet.map(getData)"
   ]
  },
  {
   "cell_type": "code",
   "execution_count": 3,
   "metadata": {
    "collapsed": true
   },
   "outputs": [],
   "source": [
    "cure_group = data.filter(lambda line: line[2] == \"green\")\n",
    "\n",
    "fatal_group = data.filter(lambda line: line[2] == \"red\")"
   ]
  },
  {
   "cell_type": "code",
   "execution_count": 4,
   "metadata": {
    "collapsed": false
   },
   "outputs": [],
   "source": [
    "import numpy as np\n",
    "import matplotlib.pyplot as plt\n",
    "import matplotlib.patches as mpatches\n",
    "\n",
    "for line in data.collect():\n",
    "    if line[2] == \"green\":\n",
    "        plt.scatter(line[0], line[1], c=\"green\", alpha=0.1)\n",
    "    else:\n",
    "        plt.scatter(line[0], line[1], c=\"red\", alpha=0.1)"
   ]
  },
  {
   "cell_type": "code",
   "execution_count": 5,
   "metadata": {
    "collapsed": false
   },
   "outputs": [
    {
     "name": "stdout",
     "output_type": "stream",
     "text": [
      "[52.0177777777778, 2.7911111111111127] [53.67901234567903, 7.4567901234567895]\n"
     ]
    }
   ],
   "source": [
    "def findMeanPair(RDD):\n",
    "    pair = [RDD.map(lambda line: line[0]).mean(),RDD.map(lambda line: line[1]).mean()]\n",
    "    return pair\n",
    "    \n",
    "cure_mean = findMeanPair(cure_group)\n",
    "\n",
    "fatal_mean = findMeanPair(fatal_group)\n",
    "\n",
    "print(cure_mean, fatal_mean)"
   ]
  },
  {
   "cell_type": "code",
   "execution_count": 8,
   "metadata": {
    "collapsed": false
   },
   "outputs": [],
   "source": [
    "#plt.scatter(cureXs,cureYs,c=\"green\",alpha=0.1,label=\"cured sample\")\n",
    "#plt.scatter(fatalXs, fatalYs, c=\"red\",alpha=0.1,label=\"fatal sample\")\n",
    "\n",
    "plt.scatter(cure_mean[0],cure_mean[1], marker='+',s=80,c=\"black\",label=\"cured centeroid\")\n",
    "plt.scatter(fatal_mean[0], fatal_mean[1],marker='x',s=50,c=\"black\", label=\"fatal centeroid\")\n",
    "\n",
    "plt.show()"
   ]
  },
  {
   "cell_type": "code",
   "execution_count": 9,
   "metadata": {
    "collapsed": false
   },
   "outputs": [],
   "source": [
    "plt.clf()\n",
    "\n",
    "import math\n",
    "\n",
    "def is_cure(line):\n",
    "    x,y = line[0],line[1]\n",
    "    cureX, cureY = cure_mean[0], cure_mean[1]\n",
    "    fatalX, fatalY = fatal_mean[0], fatal_mean[1]\n",
    "    \n",
    "    cureDist = math.sqrt((x-cureX)**2+(y-cureY)**2)\n",
    "    \n",
    "    fatalDist = math.sqrt((x-fatalX)**2+(y-fatalY)**2)\n",
    "    \n",
    "    if cureDist < fatalDist:\n",
    "        return [line[0],line[1],\"green\"]\n",
    "    else:\n",
    "        return [line[0],line[1],\"red\"]\n",
    "\n",
    "distances = data.map(is_cure)"
   ]
  },
  {
   "cell_type": "code",
   "execution_count": 25,
   "metadata": {
    "collapsed": false
   },
   "outputs": [],
   "source": [
    "for line in distances.collect():\n",
    "    if line[2] == \"green\":\n",
    "        plt.scatter(line[0],line[1],c=line[2],alpha=0.3)\n",
    "    else:\n",
    "        plt.scatter(line[0],line[1],c=line[2], alpha=0.3)\n",
    "    \n",
    "plt.scatter(cure_mean[0],cure_mean[1], marker='+',s=80,c=\"black\",label=\"cured centeroid\")\n",
    "\n",
    "plt.scatter(fatal_mean[0], fatal_mean[1],marker='x',s=50,c=\"black\", label=\"fatal centeroid\")\n",
    "\n",
    "plt.show()"
   ]
  },
  {
   "cell_type": "code",
   "execution_count": 48,
   "metadata": {
    "collapsed": false
   },
   "outputs": [],
   "source": [
    "def get_pair(line):\n",
    "    return(line[2],1)\n",
    "\n",
    "data_pair = data.map(get_pair)\n",
    "\n",
    "distance_pair = distances.map(get_pair)"
   ]
  },
  {
   "cell_type": "code",
   "execution_count": 75,
   "metadata": {
    "collapsed": false
   },
   "outputs": [],
   "source": [
    "actual_cure = data.filter(lambda line: line[2] == \"green\")\n",
    "\n",
    "#actual_cure.collect()"
   ]
  },
  {
   "cell_type": "code",
   "execution_count": 80,
   "metadata": {
    "collapsed": false
   },
   "outputs": [],
   "source": [
    "actual_fatal = data.filter(lambda line:line[2] == \"red\")\n",
    "\n",
    "#actual_fatal.collect()"
   ]
  },
  {
   "cell_type": "code",
   "execution_count": 83,
   "metadata": {
    "collapsed": false
   },
   "outputs": [],
   "source": [
    "predict_cure = distances.filter(lambda line:line[2] == \"green\")\n",
    "\n",
    "#predict_cure.collect()"
   ]
  },
  {
   "cell_type": "code",
   "execution_count": 86,
   "metadata": {
    "collapsed": false
   },
   "outputs": [],
   "source": [
    "predict_fatal = distances.filter(lambda line:line[2] == \"red\")\n",
    "\n",
    "#predict_fatal.collect()"
   ]
  },
  {
   "cell_type": "code",
   "execution_count": 89,
   "metadata": {
    "collapsed": false
   },
   "outputs": [
    {
     "data": {
      "text/plain": [
       "(225, 213)"
      ]
     },
     "execution_count": 89,
     "metadata": {},
     "output_type": "execute_result"
    }
   ],
   "source": [
    "actual_cure.count(), predict_cure.count()"
   ]
  },
  {
   "cell_type": "code",
   "execution_count": 90,
   "metadata": {
    "collapsed": false
   },
   "outputs": [
    {
     "data": {
      "text/plain": [
       "(81, 93)"
      ]
     },
     "execution_count": 90,
     "metadata": {},
     "output_type": "execute_result"
    }
   ],
   "source": [
    "actual_fatal.count(), predict_fatal.count()"
   ]
  },
  {
   "cell_type": "code",
   "execution_count": null,
   "metadata": {
    "collapsed": true
   },
   "outputs": [],
   "source": []
  }
 ],
 "metadata": {
  "kernelspec": {
   "display_name": "Python 3",
   "language": "python",
   "name": "python3"
  },
  "language_info": {
   "codemirror_mode": {
    "name": "ipython",
    "version": 3
   },
   "file_extension": ".py",
   "mimetype": "text/x-python",
   "name": "python",
   "nbconvert_exporter": "python",
   "pygments_lexer": "ipython3",
   "version": "3.5.1"
  }
 },
 "nbformat": 4,
 "nbformat_minor": 0
}
